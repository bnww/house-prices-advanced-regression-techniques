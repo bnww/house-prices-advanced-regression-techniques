{
 "cells": [
  {
   "cell_type": "code",
   "execution_count": 131,
   "metadata": {},
   "outputs": [],
   "source": [
    "import pandas as pd\n",
    "\n",
    "train = pd.read_csv('train.csv')\n",
    "test = pd.read_csv('test.csv')"
   ]
  },
  {
   "cell_type": "code",
   "execution_count": 28,
   "metadata": {},
   "outputs": [
    {
     "data": {
      "image/png": "[encoded data removed]",
      "text/plain": [
       "<Figure size 432x288 with 1 Axes>"
      ]
     },
     "metadata": {
      "needs_background": "light"
     },
     "output_type": "display_data"
    }
   ],
   "source": [
    "from matplotlib import pyplot as plt\n",
    "\n",
    "plt.hist(train['SalePrice'], bins=20)\n",
    "plt.xticks(range(0, 800000, 100000), range(0, 800, 100))\n",
    "plt.xlabel('Sale price ($k)')\n",
    "plt.ylabel('Number of houses')\n",
    "plt.show()"
   ]
  },
  {
   "cell_type": "code",
   "execution_count": null,
   "metadata": {},
   "outputs": [],
   "source": [
    "# make scatter plots of the features you think might be predictive of the sale price\n",
    "for col in train.columns:\n",
    "    if col not in ['Id', 'SalePrice']:\n",
    "        if train[col].dtype == 'int64' or train[col].dtype == 'float64':\n",
    "            plt.scatter(train[col], train['SalePrice'], alpha=0.2)\n",
    "        \n",
    "        else:\n",
    "            # create box plots for categorical features\n",
    "            plt.boxplot([train[train[col] == val]['SalePrice'] for val in train[col].unique()], showfliers=False)\n",
    "            plt.xticks(range(1, len(train[col].unique()) + 1), train[col].unique())\n",
    "\n",
    "        plt.yticks(range(0, 800000, 100000), range(0, 800, 100))\n",
    "        \n",
    "        plt.xlabel(col)\n",
    "        plt.ylabel('SalePrice ($k)')\n",
    "        plt.show()\n"
   ]
  },
  {
   "cell_type": "code",
   "execution_count": 132,
   "metadata": {},
   "outputs": [
    {
     "name": "stdout",
     "output_type": "stream",
     "text": [
      "1460\n",
      "[('PoolQC', 1453),\n",
      " ('MiscFeature', 1406),\n",
      " ('Alley', 1369),\n",
      " ('Fence', 1179),\n",
      " ('FireplaceQu', 690),\n",
      " ('LotFrontage', 259),\n",
      " ('GarageType', 81),\n",
      " ('GarageYrBlt', 81),\n",
      " ('GarageFinish', 81),\n",
      " ('GarageQual', 81),\n",
      " ('GarageCond', 81),\n",
      " ('BsmtExposure', 38),\n",
      " ('BsmtFinType2', 38),\n",
      " ('BsmtQual', 37),\n",
      " ('BsmtCond', 37),\n",
      " ('BsmtFinType1', 37),\n",
      " ('MasVnrType', 8),\n",
      " ('MasVnrArea', 8),\n",
      " ('Electrical', 1)]\n",
      "\n",
      "1459\n",
      "[('PoolQC', 1456),\n",
      " ('MiscFeature', 1408),\n",
      " ('Alley', 1352),\n",
      " ('Fence', 1169),\n",
      " ('FireplaceQu', 730),\n",
      " ('LotFrontage', 227),\n",
      " ('GarageYrBlt', 78),\n",
      " ('GarageFinish', 78),\n",
      " ('GarageQual', 78),\n",
      " ('GarageCond', 78),\n",
      " ('GarageType', 76),\n",
      " ('BsmtCond', 45),\n",
      " ('BsmtQual', 44),\n",
      " ('BsmtExposure', 44),\n",
      " ('BsmtFinType1', 42),\n",
      " ('BsmtFinType2', 42),\n",
      " ('MasVnrType', 16),\n",
      " ('MasVnrArea', 15),\n",
      " ('MSZoning', 4),\n",
      " ('Utilities', 2),\n",
      " ('BsmtFullBath', 2),\n",
      " ('BsmtHalfBath', 2),\n",
      " ('Functional', 2),\n",
      " ('Exterior1st', 1),\n",
      " ('Exterior2nd', 1),\n",
      " ('BsmtFinSF1', 1),\n",
      " ('BsmtFinSF2', 1),\n",
      " ('BsmtUnfSF', 1),\n",
      " ('TotalBsmtSF', 1),\n",
      " ('KitchenQual', 1),\n",
      " ('GarageCars', 1),\n",
      " ('GarageArea', 1),\n",
      " ('SaleType', 1)]\n"
     ]
    }
   ],
   "source": [
    "from pprint import pprint\n",
    "def print_missing_values(df):\n",
    "    missing = {}\n",
    "    for col in df.columns:\n",
    "        missing_in_col = df[col].isnull().sum()\n",
    "        if missing_in_col > 0:\n",
    "            missing[col] = missing_in_col\n",
    "    # order missing by value\n",
    "    missing_sorted = sorted(missing.items(), key=lambda item: item[1], reverse=True)\n",
    "    pprint(missing_sorted)\n",
    "\n",
    "print(len(train))\n",
    "print_missing_values(train)\n",
    "print()\n",
    "print(len(test))\n",
    "print_missing_values(test)"
   ]
  },
  {
   "cell_type": "code",
   "execution_count": 38,
   "metadata": {},
   "outputs": [
    {
     "data": {
      "text/plain": [
       "array([nan, 'Ex', 'Fa', 'Gd'], dtype=object)"
      ]
     },
     "execution_count": 38,
     "metadata": {},
     "output_type": "execute_result"
    }
   ],
   "source": [
    "cat_cols = ['MiscFeature', 'Fence', \n",
    "             'BsmtExposure', 'BsmtFinType1', 'BsmtFinType2', \n",
    "             'GarageFinish', 'GarageType', 'GarageYrBlt',\n",
    "            'MasVnrArea', 'MasVnrType']"
   ]
  },
  {
   "cell_type": "code",
   "execution_count": 245,
   "metadata": {},
   "outputs": [],
   "source": [
    "import pandas as pd\n",
    "import numpy as np\n",
    "\n",
    "train = pd.read_csv('train.csv')\n",
    "test = pd.read_csv('test.csv')"
   ]
  },
  {
   "cell_type": "code",
   "execution_count": 212,
   "metadata": {},
   "outputs": [
    {
     "data": {
      "text/plain": [
       "0       3\n",
       "1       3\n",
       "2       3\n",
       "3       3\n",
       "4       4\n",
       "       ..\n",
       "1455    3\n",
       "1456    3\n",
       "1457    4\n",
       "1458    2\n",
       "1459    3\n",
       "Name: BedroomAbvGr, Length: 1460, dtype: int64"
      ]
     },
     "execution_count": 212,
     "metadata": {},
     "output_type": "execute_result"
    }
   ],
   "source": [
    "train['BedroomAbvGr']"
   ]
  },
  {
   "cell_type": "code",
   "execution_count": 246,
   "metadata": {},
   "outputs": [],
   "source": [
    "def process_quality_vars(df):\n",
    "\n",
    "    df['has_pool'] = df['PoolQC'].notnull().astype(int)\n",
    "    df['has_garage'] = df['GarageQual'].notnull().astype(int)\n",
    "    df['has_bsmt'] = df['BsmtQual'].notnull().astype(int)\n",
    "    df['has_fence'] = df['Fence'].notnull().astype(int)\n",
    "    df['Alley'] = df['Alley'].notnull().astype(int)\n",
    "\n",
    "    # one hot encode misc features\n",
    "    df = pd.get_dummies(df, columns=['MiscFeature'])\n",
    "    \n",
    "    df['2_stories'] = (df['2ndFlrSF'] > 0).astype(int)\n",
    "    \n",
    "    # fill missing values with 0 for list of columns\n",
    "\n",
    "    qual_cols = ['PoolQC', 'HeatingQC', 'FireplaceQu','GarageQual',\n",
    "                     'GarageCond','BsmtQual','BsmtCond', 'KitchenQual',\n",
    "                     'ExterQual', 'ExterCond']\n",
    "    \n",
    "    cols_to_fill_0 = qual_cols + ['BsmtExposure', 'BsmtFinType1', 'BsmtFinType2',\n",
    "                                  'CentralAir','GarageFinish', 'PavedDrive', 'Fence',\n",
    "                                  'MasVnrType', 'MasVnrArea', 'GarageType', 'GarageYrBlt',\n",
    "                                  'BsmtHalfBath', 'BsmtFullBath', 'BsmtUnfSF', 'BsmtFinSF2',\n",
    "                                  'BsmtFinSF1', 'GarageArea','GarageCars','TotalBsmtSF']#,'BsmtUnfSF']\n",
    "    \n",
    "\n",
    "    df[cols_to_fill_0] = df[cols_to_fill_0].fillna(0)\n",
    "    for col in qual_cols:\n",
    "        df[col] = df[col].replace({'Po':1, 'Fa':2, 'TA':3, 'Gd':4, 'Ex':5})\n",
    "    \n",
    "    df['BsmtExposure'] = df['BsmtExposure'].replace({'No': 1, 'Mn': 2, 'Av': 3, 'Gd': 4})\n",
    "\n",
    "    df['BsmtFinType1'] = df['BsmtFinType1'].replace({'Unf': 1, 'LwQ': 2, 'Rec': 3, 'BLQ': 4, 'ALQ': 5, 'GLQ': 6})\n",
    "    df['BsmtFinType2'] = df['BsmtFinType2'].replace({'Unf': 1, 'LwQ': 2, 'Rec': 3, 'BLQ': 4, 'ALQ': 5, 'GLQ': 6})\n",
    "\n",
    "    df['CentralAir'] = df['CentralAir'].replace({'N': 0, 'Y': 1})\n",
    "\n",
    "    df['Functional'] = df['Functional'].fillna('Typ')\n",
    "    df['Functional'] = df['Functional'].replace({'Sal': 0, 'Sev': 1, 'Maj2': 2, 'Maj1': 3,\n",
    "                                                 'Mod': 4, 'Min2': 5, 'Min1': 6, 'Typ': 7})\n",
    "\n",
    "    df['GarageFinish'] = df['GarageFinish'].replace({'Unf': 1, 'RFn': 2, 'Fin': 3})\n",
    "\n",
    "    df['PavedDrive'] = df['PavedDrive'].replace({'N': 0, 'P': 1, 'Y': 2})\n",
    "\n",
    "    df['Fence'] = df['Fence'].replace({'MnWw': 1, 'GdWo': 2, 'MnPrv': 3, 'GdPrv': 4})\n",
    "\n",
    "    # impute missing values for MSZoning with mode from neighborhood\n",
    "    df['MSZoning'] = df.groupby('Neighborhood')['MSZoning'].transform(lambda x: x.fillna(x.mode()[0]))\n",
    "    \n",
    "    # impute electrical missing values with mode from neighborhood and zone\n",
    "    df['Electrical'] = df.groupby(['Neighborhood', 'MSZoning'])['Electrical'].transform(lambda x: x.fillna(x.mode()[0]))\n",
    "\n",
    "    # impute missing values for lot frontage with median from neighborhood and zone\n",
    "    df['LotFrontage'] = df.groupby('MSZoning')['LotFrontage'].transform(lambda x: x.fillna(x.median()))\n",
    "\n",
    "    # impute missing values for utilities with mode from neighbourhood and zone\n",
    "    df['Utilities'] = df.groupby(['Neighborhood', 'MSZoning'])['Utilities'].transform(lambda x: x.fillna(x.mode()[0]))\n",
    "\n",
    "    # impute missing values for exterior 1 and 2 with mode from neighbourhood and zone\n",
    "    df['Exterior1st'] = df.groupby(['Neighborhood', 'MSZoning'])['Exterior1st'].transform(lambda x: x.fillna(x.mode()[0]))\n",
    "    df['Exterior2nd'] = df.groupby(['Neighborhood', 'MSZoning'])['Exterior2nd'].transform(lambda x: x.fillna(x.mode()[0]))\n",
    "\n",
    "    # same for sale type\n",
    "    df['SaleType'] = df.groupby(['Neighborhood', 'MSZoning'])['SaleType'].transform(lambda x: x.fillna(x.mode()[0]))\n",
    "\n",
    "\n",
    "    return df"
   ]
  },
  {
   "cell_type": "code",
   "execution_count": 247,
   "metadata": {},
   "outputs": [
    {
     "name": "stdout",
     "output_type": "stream",
     "text": [
      "[]\n",
      "[]\n"
     ]
    }
   ],
   "source": [
    "train = process_quality_vars(train)\n",
    "test = process_quality_vars(test)\n",
    "print_missing_values(train)\n",
    "print_missing_values(test)"
   ]
  },
  {
   "cell_type": "code",
   "execution_count": 252,
   "metadata": {},
   "outputs": [
    {
     "name": "stdout",
     "output_type": "stream",
     "text": [
      "0\n"
     ]
    }
   ],
   "source": [
    "print(train['SalePrice'].isnull().sum())"
   ]
  },
  {
   "cell_type": "markdown",
   "metadata": {},
   "source": [
    "# Model Creation"
   ]
  },
  {
   "cell_type": "code",
   "execution_count": 248,
   "metadata": {},
   "outputs": [],
   "source": [
    "from sklearn.model_selection import KFold\n",
    "from sklearn.model_selection import train_test_split\n",
    "from sklearn.linear_model import LinearRegression\n",
    "from sklearn.linear_model import LogisticRegression\n",
    "from sklearn.neighbors import KNeighborsClassifier\n",
    "from sklearn.metrics import mean_squared_error\n",
    "from sklearn.metrics import r2_score"
   ]
  },
  {
   "cell_type": "code",
   "execution_count": 253,
   "metadata": {},
   "outputs": [
    {
     "name": "stderr",
     "output_type": "stream",
     "text": [
      "C:\\Users\\benwi\\AppData\\Local\\Temp\\ipykernel_17684\\3929772024.py:29: RuntimeWarning: invalid value encountered in log\n",
      "  train_mse = mean_squared_error(np.log(y_train), np.log(train_pred))\n"
     ]
    },
    {
     "ename": "ValueError",
     "evalue": "Input contains NaN.",
     "output_type": "error",
     "traceback": [
      "\u001b[1;31m---------------------------------------------------------------------------\u001b[0m",
      "\u001b[1;31mValueError\u001b[0m                                Traceback (most recent call last)",
      "Input \u001b[1;32mIn [253]\u001b[0m, in \u001b[0;36m<cell line: 18>\u001b[1;34m()\u001b[0m\n\u001b[0;32m     26\u001b[0m     rmse \u001b[38;5;241m=\u001b[39m np\u001b[38;5;241m.\u001b[39msqrt(mse)\n\u001b[0;32m     28\u001b[0m     train_pred \u001b[38;5;241m=\u001b[39m clf\u001b[38;5;241m.\u001b[39mpredict(X_train)\n\u001b[1;32m---> 29\u001b[0m     train_mse \u001b[38;5;241m=\u001b[39m \u001b[43mmean_squared_error\u001b[49m\u001b[43m(\u001b[49m\u001b[43mnp\u001b[49m\u001b[38;5;241;43m.\u001b[39;49m\u001b[43mlog\u001b[49m\u001b[43m(\u001b[49m\u001b[43my_train\u001b[49m\u001b[43m)\u001b[49m\u001b[43m,\u001b[49m\u001b[43m \u001b[49m\u001b[43mnp\u001b[49m\u001b[38;5;241;43m.\u001b[39;49m\u001b[43mlog\u001b[49m\u001b[43m(\u001b[49m\u001b[43mtrain_pred\u001b[49m\u001b[43m)\u001b[49m\u001b[43m)\u001b[49m\n\u001b[0;32m     30\u001b[0m     results \u001b[38;5;241m=\u001b[39m results\u001b[38;5;241m.\u001b[39mappend({\u001b[38;5;124m'\u001b[39m\u001b[38;5;124mModel\u001b[39m\u001b[38;5;124m'\u001b[39m: name, \u001b[38;5;124m'\u001b[39m\u001b[38;5;124mR2\u001b[39m\u001b[38;5;124m'\u001b[39m: r2, \u001b[38;5;124m'\u001b[39m\u001b[38;5;124mRMSE\u001b[39m\u001b[38;5;124m'\u001b[39m: rmse, \u001b[38;5;124m'\u001b[39m\u001b[38;5;124mTrain_RMSE\u001b[39m\u001b[38;5;124m'\u001b[39m: np\u001b[38;5;241m.\u001b[39msqrt(train_mse)}, ignore_index\u001b[38;5;241m=\u001b[39m\u001b[38;5;28;01mTrue\u001b[39;00m)\n\u001b[0;32m     32\u001b[0m \u001b[38;5;28mprint\u001b[39m(results)\n",
      "File \u001b[1;32mc:\\Users\\benwi\\anaconda3\\lib\\site-packages\\sklearn\\metrics\\_regression.py:442\u001b[0m, in \u001b[0;36mmean_squared_error\u001b[1;34m(y_true, y_pred, sample_weight, multioutput, squared)\u001b[0m\n\u001b[0;32m    382\u001b[0m \u001b[38;5;28;01mdef\u001b[39;00m \u001b[38;5;21mmean_squared_error\u001b[39m(\n\u001b[0;32m    383\u001b[0m     y_true, y_pred, \u001b[38;5;241m*\u001b[39m, sample_weight\u001b[38;5;241m=\u001b[39m\u001b[38;5;28;01mNone\u001b[39;00m, multioutput\u001b[38;5;241m=\u001b[39m\u001b[38;5;124m\"\u001b[39m\u001b[38;5;124muniform_average\u001b[39m\u001b[38;5;124m\"\u001b[39m, squared\u001b[38;5;241m=\u001b[39m\u001b[38;5;28;01mTrue\u001b[39;00m\n\u001b[0;32m    384\u001b[0m ):\n\u001b[0;32m    385\u001b[0m     \u001b[38;5;124;03m\"\"\"Mean squared error regression loss.\u001b[39;00m\n\u001b[0;32m    386\u001b[0m \n\u001b[0;32m    387\u001b[0m \u001b[38;5;124;03m    Read more in the :ref:`User Guide <mean_squared_error>`.\u001b[39;00m\n\u001b[1;32m   (...)\u001b[0m\n\u001b[0;32m    440\u001b[0m \u001b[38;5;124;03m    0.825...\u001b[39;00m\n\u001b[0;32m    441\u001b[0m \u001b[38;5;124;03m    \"\"\"\u001b[39;00m\n\u001b[1;32m--> 442\u001b[0m     y_type, y_true, y_pred, multioutput \u001b[38;5;241m=\u001b[39m \u001b[43m_check_reg_targets\u001b[49m\u001b[43m(\u001b[49m\n\u001b[0;32m    443\u001b[0m \u001b[43m        \u001b[49m\u001b[43my_true\u001b[49m\u001b[43m,\u001b[49m\u001b[43m \u001b[49m\u001b[43my_pred\u001b[49m\u001b[43m,\u001b[49m\u001b[43m \u001b[49m\u001b[43mmultioutput\u001b[49m\n\u001b[0;32m    444\u001b[0m \u001b[43m    \u001b[49m\u001b[43m)\u001b[49m\n\u001b[0;32m    445\u001b[0m     check_consistent_length(y_true, y_pred, sample_weight)\n\u001b[0;32m    446\u001b[0m     output_errors \u001b[38;5;241m=\u001b[39m np\u001b[38;5;241m.\u001b[39maverage((y_true \u001b[38;5;241m-\u001b[39m y_pred) \u001b[38;5;241m*\u001b[39m\u001b[38;5;241m*\u001b[39m \u001b[38;5;241m2\u001b[39m, axis\u001b[38;5;241m=\u001b[39m\u001b[38;5;241m0\u001b[39m, weights\u001b[38;5;241m=\u001b[39msample_weight)\n",
      "File \u001b[1;32mc:\\Users\\benwi\\anaconda3\\lib\\site-packages\\sklearn\\metrics\\_regression.py:102\u001b[0m, in \u001b[0;36m_check_reg_targets\u001b[1;34m(y_true, y_pred, multioutput, dtype)\u001b[0m\n\u001b[0;32m    100\u001b[0m check_consistent_length(y_true, y_pred)\n\u001b[0;32m    101\u001b[0m y_true \u001b[38;5;241m=\u001b[39m check_array(y_true, ensure_2d\u001b[38;5;241m=\u001b[39m\u001b[38;5;28;01mFalse\u001b[39;00m, dtype\u001b[38;5;241m=\u001b[39mdtype)\n\u001b[1;32m--> 102\u001b[0m y_pred \u001b[38;5;241m=\u001b[39m \u001b[43mcheck_array\u001b[49m\u001b[43m(\u001b[49m\u001b[43my_pred\u001b[49m\u001b[43m,\u001b[49m\u001b[43m \u001b[49m\u001b[43mensure_2d\u001b[49m\u001b[38;5;241;43m=\u001b[39;49m\u001b[38;5;28;43;01mFalse\u001b[39;49;00m\u001b[43m,\u001b[49m\u001b[43m \u001b[49m\u001b[43mdtype\u001b[49m\u001b[38;5;241;43m=\u001b[39;49m\u001b[43mdtype\u001b[49m\u001b[43m)\u001b[49m\n\u001b[0;32m    104\u001b[0m \u001b[38;5;28;01mif\u001b[39;00m y_true\u001b[38;5;241m.\u001b[39mndim \u001b[38;5;241m==\u001b[39m \u001b[38;5;241m1\u001b[39m:\n\u001b[0;32m    105\u001b[0m     y_true \u001b[38;5;241m=\u001b[39m y_true\u001b[38;5;241m.\u001b[39mreshape((\u001b[38;5;241m-\u001b[39m\u001b[38;5;241m1\u001b[39m, \u001b[38;5;241m1\u001b[39m))\n",
      "File \u001b[1;32mc:\\Users\\benwi\\anaconda3\\lib\\site-packages\\sklearn\\utils\\validation.py:899\u001b[0m, in \u001b[0;36mcheck_array\u001b[1;34m(array, accept_sparse, accept_large_sparse, dtype, order, copy, force_all_finite, ensure_2d, allow_nd, ensure_min_samples, ensure_min_features, estimator, input_name)\u001b[0m\n\u001b[0;32m    893\u001b[0m         \u001b[38;5;28;01mraise\u001b[39;00m \u001b[38;5;167;01mValueError\u001b[39;00m(\n\u001b[0;32m    894\u001b[0m             \u001b[38;5;124m\"\u001b[39m\u001b[38;5;124mFound array with dim \u001b[39m\u001b[38;5;132;01m%d\u001b[39;00m\u001b[38;5;124m. \u001b[39m\u001b[38;5;132;01m%s\u001b[39;00m\u001b[38;5;124m expected <= 2.\u001b[39m\u001b[38;5;124m\"\u001b[39m\n\u001b[0;32m    895\u001b[0m             \u001b[38;5;241m%\u001b[39m (array\u001b[38;5;241m.\u001b[39mndim, estimator_name)\n\u001b[0;32m    896\u001b[0m         )\n\u001b[0;32m    898\u001b[0m     \u001b[38;5;28;01mif\u001b[39;00m force_all_finite:\n\u001b[1;32m--> 899\u001b[0m         \u001b[43m_assert_all_finite\u001b[49m\u001b[43m(\u001b[49m\n\u001b[0;32m    900\u001b[0m \u001b[43m            \u001b[49m\u001b[43marray\u001b[49m\u001b[43m,\u001b[49m\n\u001b[0;32m    901\u001b[0m \u001b[43m            \u001b[49m\u001b[43minput_name\u001b[49m\u001b[38;5;241;43m=\u001b[39;49m\u001b[43minput_name\u001b[49m\u001b[43m,\u001b[49m\n\u001b[0;32m    902\u001b[0m \u001b[43m            \u001b[49m\u001b[43mestimator_name\u001b[49m\u001b[38;5;241;43m=\u001b[39;49m\u001b[43mestimator_name\u001b[49m\u001b[43m,\u001b[49m\n\u001b[0;32m    903\u001b[0m \u001b[43m            \u001b[49m\u001b[43mallow_nan\u001b[49m\u001b[38;5;241;43m=\u001b[39;49m\u001b[43mforce_all_finite\u001b[49m\u001b[43m \u001b[49m\u001b[38;5;241;43m==\u001b[39;49m\u001b[43m \u001b[49m\u001b[38;5;124;43m\"\u001b[39;49m\u001b[38;5;124;43mallow-nan\u001b[39;49m\u001b[38;5;124;43m\"\u001b[39;49m\u001b[43m,\u001b[49m\n\u001b[0;32m    904\u001b[0m \u001b[43m        \u001b[49m\u001b[43m)\u001b[49m\n\u001b[0;32m    906\u001b[0m \u001b[38;5;28;01mif\u001b[39;00m ensure_min_samples \u001b[38;5;241m>\u001b[39m \u001b[38;5;241m0\u001b[39m:\n\u001b[0;32m    907\u001b[0m     n_samples \u001b[38;5;241m=\u001b[39m _num_samples(array)\n",
      "File \u001b[1;32mc:\\Users\\benwi\\anaconda3\\lib\\site-packages\\sklearn\\utils\\validation.py:146\u001b[0m, in \u001b[0;36m_assert_all_finite\u001b[1;34m(X, allow_nan, msg_dtype, estimator_name, input_name)\u001b[0m\n\u001b[0;32m    124\u001b[0m         \u001b[38;5;28;01mif\u001b[39;00m (\n\u001b[0;32m    125\u001b[0m             \u001b[38;5;129;01mnot\u001b[39;00m allow_nan\n\u001b[0;32m    126\u001b[0m             \u001b[38;5;129;01mand\u001b[39;00m estimator_name\n\u001b[1;32m   (...)\u001b[0m\n\u001b[0;32m    130\u001b[0m             \u001b[38;5;66;03m# Improve the error message on how to handle missing values in\u001b[39;00m\n\u001b[0;32m    131\u001b[0m             \u001b[38;5;66;03m# scikit-learn.\u001b[39;00m\n\u001b[0;32m    132\u001b[0m             msg_err \u001b[38;5;241m+\u001b[39m\u001b[38;5;241m=\u001b[39m (\n\u001b[0;32m    133\u001b[0m                 \u001b[38;5;124mf\u001b[39m\u001b[38;5;124m\"\u001b[39m\u001b[38;5;130;01m\\n\u001b[39;00m\u001b[38;5;132;01m{\u001b[39;00mestimator_name\u001b[38;5;132;01m}\u001b[39;00m\u001b[38;5;124m does not accept missing values\u001b[39m\u001b[38;5;124m\"\u001b[39m\n\u001b[0;32m    134\u001b[0m                 \u001b[38;5;124m\"\u001b[39m\u001b[38;5;124m encoded as NaN natively. For supervised learning, you might want\u001b[39m\u001b[38;5;124m\"\u001b[39m\n\u001b[1;32m   (...)\u001b[0m\n\u001b[0;32m    144\u001b[0m                 \u001b[38;5;124m\"\u001b[39m\u001b[38;5;124m#estimators-that-handle-nan-values\u001b[39m\u001b[38;5;124m\"\u001b[39m\n\u001b[0;32m    145\u001b[0m             )\n\u001b[1;32m--> 146\u001b[0m         \u001b[38;5;28;01mraise\u001b[39;00m \u001b[38;5;167;01mValueError\u001b[39;00m(msg_err)\n\u001b[0;32m    148\u001b[0m \u001b[38;5;66;03m# for object dtype data, we only check for NaNs (GH-13254)\u001b[39;00m\n\u001b[0;32m    149\u001b[0m \u001b[38;5;28;01melif\u001b[39;00m X\u001b[38;5;241m.\u001b[39mdtype \u001b[38;5;241m==\u001b[39m np\u001b[38;5;241m.\u001b[39mdtype(\u001b[38;5;124m\"\u001b[39m\u001b[38;5;124mobject\u001b[39m\u001b[38;5;124m\"\u001b[39m) \u001b[38;5;129;01mand\u001b[39;00m \u001b[38;5;129;01mnot\u001b[39;00m allow_nan:\n",
      "\u001b[1;31mValueError\u001b[0m: Input contains NaN."
     ]
    }
   ],
   "source": [
    "classifiers = {'Linear Regression': LinearRegression(),\n",
    "               'Logistic Regression': LogisticRegression(),\n",
    "               'K Nearest Neighbors': KNeighborsClassifier()}\n",
    "\n",
    "prediction_features = ['PoolQC', 'HeatingQC', 'FireplaceQu','GarageQual',\n",
    "                       'GarageCond','BsmtQual','BsmtCond', 'KitchenQual',\n",
    "                       'ExterQual', 'ExterCond', 'has_pool', 'has_garage', 'has_bsmt',\n",
    "                       'OverallQual', 'OverallCond', 'YearBuilt', 'YearRemodAdd']\n",
    "\n",
    "prediction_features = ['GrLivArea', 'OverallQual', 'OverallCond', 'YearBuilt', 'YearRemodAdd', 'ExterQual', 'ExterCond',\n",
    "                       'BsmtQual', 'BsmtCond', 'KitchenQual', 'Functional', 'GarageCars']\n",
    "\n",
    "benchmark_features = ['MoSold', 'YrSold', 'BedroomAbvGr', 'LotArea']\n",
    "\n",
    "X_train, X_val, y_train, y_val = train_test_split(train[prediction_features], train['SalePrice'], test_size=0.2)\n",
    "\n",
    "results = pd.DataFrame(columns=['Model', 'R2', 'RMSE', 'Train_RMSE'])\n",
    "for name, clf in classifiers.items():\n",
    "    clf.fit(X_train, y_train)\n",
    "    pred_val = clf.predict(X_val)\n",
    "    # take logs of the sale prices\n",
    "    y_val_log = np.log(y_val)\n",
    "    pred_val_log = np.log(pred_val)\n",
    "    mse = mean_squared_error(y_val_log, pred_val_log)\n",
    "    r2 = r2_score(y_val_log, pred_val_log)\n",
    "    rmse = np.sqrt(mse)\n",
    "    \n",
    "    train_pred = clf.predict(X_train)\n",
    "    train_mse = mean_squared_error(np.log(y_train), np.log(train_pred))\n",
    "    results = results.append({'Model': name, 'R2': r2, 'RMSE': rmse, 'Train_RMSE': np.sqrt(train_mse)}, ignore_index=True)\n",
    "\n",
    "print(results)"
   ]
  },
  {
   "cell_type": "code",
   "execution_count": 242,
   "metadata": {},
   "outputs": [],
   "source": [
    "# make submission\n",
    "clf = LinearRegression()\n",
    "clf.fit(train[prediction_features], train['SalePrice'])\n",
    "pred_test = clf.predict(test[prediction_features])\n",
    "test['SalePrice'] = pred_test\n",
    "test[['Id', 'SalePrice']].to_csv('submission.csv', index=False)\n"
   ]
  },
  {
   "cell_type": "code",
   "execution_count": 237,
   "metadata": {},
   "outputs": [
    {
     "name": "stdout",
     "output_type": "stream",
     "text": [
      "        Feature        R2      RMSE\n",
      "0        MoSold -0.074915  0.411462\n",
      "1        YrSold -0.077975  0.412047\n",
      "2  BedroomAbvGr -0.039772  0.404680\n",
      "3       LotArea  0.007567  0.395361\n"
     ]
    },
    {
     "name": "stderr",
     "output_type": "stream",
     "text": [
      "C:\\Users\\benwi\\AppData\\Local\\Temp\\ipykernel_17684\\303924845.py:16: FutureWarning: The frame.append method is deprecated and will be removed from pandas in a future version. Use pandas.concat instead.\n",
      "  results = results.append({'Feature': feature, 'R2': r2, 'RMSE': rmse}, ignore_index=True)\n",
      "C:\\Users\\benwi\\AppData\\Local\\Temp\\ipykernel_17684\\303924845.py:16: FutureWarning: The frame.append method is deprecated and will be removed from pandas in a future version. Use pandas.concat instead.\n",
      "  results = results.append({'Feature': feature, 'R2': r2, 'RMSE': rmse}, ignore_index=True)\n",
      "C:\\Users\\benwi\\AppData\\Local\\Temp\\ipykernel_17684\\303924845.py:16: FutureWarning: The frame.append method is deprecated and will be removed from pandas in a future version. Use pandas.concat instead.\n",
      "  results = results.append({'Feature': feature, 'R2': r2, 'RMSE': rmse}, ignore_index=True)\n",
      "C:\\Users\\benwi\\AppData\\Local\\Temp\\ipykernel_17684\\303924845.py:16: FutureWarning: The frame.append method is deprecated and will be removed from pandas in a future version. Use pandas.concat instead.\n",
      "  results = results.append({'Feature': feature, 'R2': r2, 'RMSE': rmse}, ignore_index=True)\n"
     ]
    }
   ],
   "source": [
    "results = pd.DataFrame(columns=['Feature', 'R2', 'RMSE'])\n",
    "\n",
    "for feature in benchmark_features:\n",
    "    feat_train = np.array(X_train[feature]).reshape(-1, 1)\n",
    "    feat_val = np.array(X_val[feature]).reshape(-1, 1)\n",
    "    \n",
    "    reg = LinearRegression()\n",
    "    reg.fit(feat_train, y_train)\n",
    "    pred_val = reg.predict(feat_val)\n",
    "    y_val_log = np.log(y_val)\n",
    "    pred_val_log = np.log(pred_val)\n",
    "    r2 = r2_score(y_val_log, pred_val_log)\n",
    "    mse = mean_squared_error(y_val_log, pred_val_log)\n",
    "    rmse = np.sqrt(mse)\n",
    "\n",
    "    results = results.append({'Feature': feature, 'R2': r2, 'RMSE': rmse}, ignore_index=True)\n",
    "\n",
    "print(results)\n",
    "\n",
    "\n"
   ]
  },
  {
   "cell_type": "code",
   "execution_count": null,
   "metadata": {},
   "outputs": [],
   "source": []
  }
 ],
 "metadata": {
  "kernelspec": {
   "display_name": "base",
   "language": "python",
   "name": "python3"
  },
  "language_info": {
   "codemirror_mode": {
    "name": "ipython",
    "version": 3
   },
   "file_extension": ".py",
   "mimetype": "text/x-python",
   "name": "python",
   "nbconvert_exporter": "python",
   "pygments_lexer": "ipython3",
   "version": "3.8.13"
  }
 },
 "nbformat": 4,
 "nbformat_minor": 2
}
